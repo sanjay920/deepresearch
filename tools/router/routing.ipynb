{
 "cells": [
  {
   "cell_type": "code",
   "execution_count": 3,
   "metadata": {},
   "outputs": [],
   "source": [
    "# !pip install openai"
   ]
  },
  {
   "cell_type": "code",
   "execution_count": 24,
   "metadata": {},
   "outputs": [],
   "source": [
    "from openai import OpenAI\n",
    "import os\n",
    "\n",
    "client = OpenAI(api_key=os.environ[\"OPENAI_API_KEY\"])"
   ]
  },
  {
   "cell_type": "code",
   "execution_count": 29,
   "metadata": {},
   "outputs": [
    {
     "data": {
      "text/plain": [
       "ChatCompletion(id='chatcmpl-AyQfjidrrSB5Z0j7RAZe0gq9JvNmZ', choices=[Choice(finish_reason='stop', index=0, logprobs=None, message=ChatCompletionMessage(content='{\\n  \"is_complex\": false,\\n  \"response/routing\": \"Hello! How can I assist you today?\"\\n}', refusal=None, role='assistant', audio=None, function_call=None, tool_calls=None))], created=1738965571, model='gpt-4o-2024-08-06', object='chat.completion', service_tier='default', system_fingerprint='fp_4691090a87', usage=CompletionUsage(completion_tokens=27, prompt_tokens=898, total_tokens=925, completion_tokens_details=CompletionTokensDetails(accepted_prediction_tokens=0, audio_tokens=0, reasoning_tokens=0, rejected_prediction_tokens=0), prompt_tokens_details=PromptTokensDetails(audio_tokens=0, cached_tokens=0)))"
      ]
     },
     "execution_count": 29,
     "metadata": {},
     "output_type": "execute_result"
    }
   ],
   "source": [
    "response = client.chat.completions.create(\n",
    "    model=\"gpt-4o\",\n",
    "    messages=[\n",
    "        {\n",
    "            \"role\": \"system\",\n",
    "            \"content\": [\n",
    "                {\n",
    "                    \"text\": 'You are a routing agent tasked with determining the complexity of user queries and providing appropriate responses. If the user\\'s query is complex and challenging, route it to the planning assistant. For less complex queries, utilize available functions to provide an immediate response. If you choose to use the query_information_broker tool, the query you give it must consist of complete sentences - you dont want to disrespect your colleague. If you do call query_information_broker, make sure to include citations in your final response back to the user the same way the query_information_broker does citations - here\\'s an example:\\n\\n*   **Dried or Dehydrated Products:** Including items specifically marked as dehydrated.[1, 2, 3, 4]\\n*   **Frozen or Chilled Products:** Including items in the Frozen/Chilled section.[1, 3, 5]\\n\\nThe search results indicate that you can request copies of these standards from the \"Processed Products Standardization and Inspection Branch, Fruit and Vegetable Division, AMS, U. S. Department of Agriculture, Washington 25, D. C.\"[1]\\n\\n\\nSources:\\n1. [wikimedia.org](https://vertexaisearch.cloud.google.com/grounding-api-redirect/AUBnsYsz6C1d6eg3X8H0nY0nazSssPbSg0hyVxCTkXxAwokS9kASQYM3rYTgv6Hv6QV4vQCcKQCZ6rNu0JA7r50yYvvbzPkYW4sHtJUJGsdQiEaEPIU-Tte0Gg_RSnH0QAK0JYd2QsVlD8vkh3RvkBQCbFtmSJNsaWC6MEWaA1wnWGDmDA3SW_Cm7bRCw0kP-rPVSlGpX9Z-RNNXtAwij5MKyQbVhP75Wfhl5j_KFq5feTgEzA2dxCgNfYvVLAUntdwbO5zK4KGOoamQUoFvALyEF3JMLnW3GcPYdgca77O4UcPyAnvaxxuhkX_RDhLWkYuynnyqI4qFWxtRaw9h4XJrYzQ-vbpv9OaWEkIfEJ5nsBnQIhzxvg==)\\n2. [ncrfsma.org](https://vertexaisearch.cloud.google.com/grounding-api-redirect/AUBnsYtdV_UKhi2FxN23p0RqLNnblDNEnK5jyByZOvchWNQmoAH0RcHmZPHAP_SstOwEudS7hXWAiIxXMH6O3fM6qRJkujd4KqPk_oijRe3iYEqA9yxH6B0CvaSZ3oAJmKv27g8uHAACoCp_e-O6tWFmsMcrZilmL7y42vD6QChJs7ZPaKXmqLOLYn8jjg==)\\n\\n\\n# Steps\\n\\n1. Analyze the user\\'s query:\\n   - Determine if the query is complex or straightforward.\\n   - Use complexity cues (e.g., open-ended questions, ambiguous terms).\\n\\n2. Route or respond:\\n   - If complex, forward the query to the planning assistant.\\n   - If straightforward, attempt to answer using available functions (e.g., \"what is the date today?\").\\n\\n# Output Format\\n\\nYour output must be in the following JSON format (and nothing else):\\n\\n```json\\n{\\n  \"is_complex\": [true/false],\\n  \"response/routing\": [response or indicate routing to planning assistant]\\n}\\n```\\n\\n# Notes\\n\\n- Ensure clarity and precision in determining the complexity of queries.\\n- Adjust the response based on the complexity assessment.',\n",
    "                    \"type\": \"text\",\n",
    "                }\n",
    "            ],\n",
    "        },\n",
    "        {\n",
    "            \"role\": \"user\",\n",
    "            \"content\": [\n",
    "                {\n",
    "                    \"type\": \"text\",\n",
    "                    \"text\": \"Hey there\",\n",
    "                }\n",
    "            ],\n",
    "        },\n",
    "    ],\n",
    "    response_format={\"type\": \"json_object\"},\n",
    "    tools=[\n",
    "        {\n",
    "            \"type\": \"function\",\n",
    "            \"function\": {\n",
    "                \"name\": \"query_information_broker\",\n",
    "                \"strict\": True,\n",
    "                \"parameters\": {\n",
    "                    \"type\": \"object\",\n",
    "                    \"required\": [\"query\"],\n",
    "                    \"properties\": {\n",
    "                        \"query\": {\n",
    "                            \"type\": \"string\",\n",
    "                            \"description\": \"The query/ask for the information broker. Must be a complete sentence - something descriptive enough for them to get context\",\n",
    "                        }\n",
    "                    },\n",
    "                    \"additionalProperties\": False,\n",
    "                },\n",
    "                \"description\": \"An information broker that takes in a query and searches the web using Google to provide an answer.\",\n",
    "            },\n",
    "        }\n",
    "    ],\n",
    "    temperature=0.07,\n",
    "    max_completion_tokens=10831,\n",
    "    top_p=1,\n",
    "    frequency_penalty=0,\n",
    "    presence_penalty=0,\n",
    ")\n",
    "response"
   ]
  },
  {
   "cell_type": "code",
   "execution_count": 30,
   "metadata": {},
   "outputs": [],
   "source": [
    "import json"
   ]
  },
  {
   "cell_type": "code",
   "execution_count": 31,
   "metadata": {},
   "outputs": [
    {
     "data": {
      "text/plain": [
       "'{\\n  \"is_complex\": false,\\n  \"response/routing\": \"Hello! How can I assist you today?\"\\n}'"
      ]
     },
     "execution_count": 31,
     "metadata": {},
     "output_type": "execute_result"
    }
   ],
   "source": [
    "response.choices[0].message.content"
   ]
  },
  {
   "cell_type": "code",
   "execution_count": 32,
   "metadata": {},
   "outputs": [
    {
     "data": {
      "text/plain": [
       "{'is_complex': False, 'response/routing': 'Hello! How can I assist you today?'}"
      ]
     },
     "execution_count": 32,
     "metadata": {},
     "output_type": "execute_result"
    }
   ],
   "source": [
    "json.loads(response.choices[0].message.content)"
   ]
  },
  {
   "cell_type": "code",
   "execution_count": null,
   "metadata": {},
   "outputs": [],
   "source": []
  }
 ],
 "metadata": {
  "kernelspec": {
   "display_name": "deepresearch-private-vQtw3njp-py3.11",
   "language": "python",
   "name": "python3"
  },
  "language_info": {
   "codemirror_mode": {
    "name": "ipython",
    "version": 3
   },
   "file_extension": ".py",
   "mimetype": "text/x-python",
   "name": "python",
   "nbconvert_exporter": "python",
   "pygments_lexer": "ipython3",
   "version": "3.11.7"
  }
 },
 "nbformat": 4,
 "nbformat_minor": 2
}
