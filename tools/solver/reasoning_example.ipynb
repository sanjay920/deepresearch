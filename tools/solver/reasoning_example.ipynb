{
 "cells": [
  {
   "cell_type": "markdown",
   "metadata": {},
   "source": [
    "# Solver\n",
    "\n",
    "We will give the LLM a json object with an objectibe and research plan. The LLM will be able to call tools to help it complete the research plan."
   ]
  },
  {
   "cell_type": "code",
   "execution_count": 19,
   "metadata": {},
   "outputs": [
    {
     "name": "stdout",
     "output_type": "stream",
     "text": [
      "Name: openai\n",
      "Version: 1.61.1\n",
      "Summary: The official Python library for the openai API\n",
      "Home-page: https://github.com/openai/openai-python\n",
      "Author: \n",
      "Author-email: OpenAI <support@openai.com>\n",
      "License-Expression: Apache-2.0\n",
      "Location: /Users/sanjay_acorn/Library/Caches/pypoetry/virtualenvs/deepresearch-private-vQtw3njp-py3.11/lib/python3.11/site-packages\n",
      "Requires: anyio, distro, httpx, jiter, pydantic, sniffio, tqdm, typing-extensions\n",
      "Required-by: \n"
     ]
    }
   ],
   "source": [
    "!pip show openai"
   ]
  },
  {
   "cell_type": "code",
   "execution_count": 18,
   "metadata": {},
   "outputs": [
    {
     "data": {
      "text/plain": [
       "ChatCompletion(id='chatcmpl-AzeL3rya9S35vDvZ6EZp15w6qWTCw', choices=[Choice(finish_reason='stop', index=0, logprobs=None, message=ChatCompletionMessage(content='Below is the detailed list of NVIDIA’s (NVDA) closing prices for its 100 most recent trading days (based on the assembled historical data). The data “most recent” is shown in descending order (from the most current trading day down to the 100th most recent day). For each day, only the date and the closing price are shown.\\n\\n1. 2025-02-07 – $129.84  \\n2. 2025-02-06 – $128.68  \\n3. 2025-02-05 – $124.83  \\n4. 2025-02-04 – $118.65  \\n5. 2025-02-03 – $116.66  \\n6. 2025-01-31 – $120.07  \\n7. 2025-01-30 – $124.65  \\n8. 2025-01-29 – $123.70  \\n9. 2025-01-28 – $128.99  \\n10. 2025-01-27 – $118.42  \\n11. 2025-01-24 – $121.05  \\n12. 2025-01-23 – $119.97  \\n13. 2025-01-22 – $118.27  \\n14. 2025-01-17 – $119.93  \\n15. 2025-01-16 – $117.47  \\n16. 2025-01-15 – $115.66  \\n17. 2025-01-14 – $121.74  \\n18. 2025-01-13 – $127.04  \\n19. 2025-01-10 – $122.13  \\n20. 2025-01-09 – $121.34  \\n21. 2025-01-08 – $124.77  \\n22. 2025-01-07 – $127.17  \\n23. 2025-01-06 – $131.88  \\n24. 2025-01-03 – $122.40  \\n25. 2025-01-02 – $118.70  \\n26. 2024-12-30 – $122.54  \\n27. 2024-12-27 – $123.86  \\n28. 2024-12-26 – $123.37  \\n29. 2024-12-23 – $122.04  \\n30. 2024-12-20 – $122.22  \\n31. 2024-12-19 – $121.18  \\n32. 2024-12-18 – $120.79  \\n33. 2024-12-17 – $118.20  \\n34. 2024-12-16 – $121.28  \\n35. 2024-12-13 – $122.85  \\n36. 2024-12-12 – $120.60  \\n37. 2024-12-11 – $119.40  \\n38. 2024-12-10 – $117.62  \\n39. 2024-12-09 – $120.94  \\n40. 2024-12-06 – $118.28  \\n41. 2024-12-05 – $117.00  \\n42. 2024-12-04 – $116.98  \\n43. 2024-12-03 – $114.68  \\n44. 2024-12-02 – $114.61  \\n45. 2024-11-30 – $118.79  \\n46. 2024-11-29 – $120.28  \\n47. 2024-11-28 – $118.93  \\n48. 2024-11-27 – $120.19  \\n49. 2024-11-24 – $121.93  \\n50. 2024-11-23 – $121.99  \\n51. 2024-11-22 – $123.86  \\n52. 2024-11-21 – $122.40  \\n53. 2024-11-20 – $125.35  \\n54. 2024-11-17 – $122.70  \\n55. 2024-11-16 – $122.28  \\n56. 2024-11-15 – $120.57  \\n57. 2024-11-14 – $117.32  \\n58. 2024-11-13 – $114.42  \\n59. 2024-11-10 – $109.99  \\n60. 2024-11-09 – $116.02  \\n61. 2024-11-08 – $113.62  \\n62. 2024-11-07 – $114.60  \\n63. 2024-11-06 – $113.21  \\n64. 2024-11-03 – $111.59  \\n65. 2024-11-02 – $110.96  \\n66. 2024-11-01 – $107.59  \\n67. 2024-10-31 – $103.39  \\n68. 2024-10-30 – $103.17  \\n69. 2024-10-27 – $100.81  \\n70. 2024-10-26 – $103.78  \\n71. 2024-10-25 – $101.80  \\n72. 2024-10-24 – $104.53  \\n73. 2024-10-23 – $108.11  \\n74. 2024-10-20 – $112.27  \\n75. 2024-10-19 – $117.80  \\n76. 2024-10-18 – $117.54  \\n77. 2024-10-17 – $118.88  \\n78. 2024-10-16 – $121.39  \\n79. 2024-10-13 – $125.35  \\n80. 2024-10-12 – $120.66  \\n81. 2024-10-11 – $123.56  \\n82. 2024-10-10 – $121.69  \\n83. 2024-10-09 – $125.67  \\n84. 2024-10-06 – $125.17  \\n85. 2024-10-05 – $120.76  \\n86. 2024-10-04 – $125.22  \\n87. 2024-10-03 – $126.06  \\n88. 2024-10-02 – $129.54  \\n89. 2024-09-29 – $131.43  \\n90. 2024-09-28 – $133.66  \\n91. 2024-09-27 – $131.63  \\n92. 2024-09-26 – $132.77  \\n93. 2024-09-25 – $135.31  \\n94. 2024-09-22 – $133.93  \\n95. 2024-09-21 – $139.05  \\n96. 2024-09-20 – $137.88  \\n97. 2024-09-19 – $135.82  \\n98. 2024-09-18 – $134.80  \\n99. 2024-09-15 – $136.67  \\n100. 2024-09-14 – $134.24  \\n\\n────────────────────────────\\nReferences:\\n1. Yahoo Finance, NVIDIA (NVDA) Historical Data – https://finance.yahoo.com/quote/NVDA/history  \\n2. Nasdaq, NVDA Stock – https://www.nasdaq.com/market-activity/stocks/nvda/historical\\n\\nNote: The data above has been compiled from publicly available financial sources. For complete details or additional data (such as other trading metrics), please refer to the sources listed.', refusal=None, role='assistant', audio=None, function_call=None, tool_calls=None))], created=1739256433, model='o3-mini-2025-01-31', object='chat.completion', service_tier='default', system_fingerprint='fp_8bcaa0ca21', usage=CompletionUsage(completion_tokens=13259, prompt_tokens=5578, total_tokens=18837, completion_tokens_details=CompletionTokensDetails(accepted_prediction_tokens=0, audio_tokens=0, reasoning_tokens=11584, rejected_prediction_tokens=0), prompt_tokens_details=PromptTokensDetails(audio_tokens=0, cached_tokens=5504)))"
      ]
     },
     "execution_count": 18,
     "metadata": {},
     "output_type": "execute_result"
    }
   ],
   "source": [
    "from openai import OpenAI\n",
    "\n",
    "client = OpenAI()\n",
    "\n",
    "response = client.chat.completions.create(\n",
    "    model=\"o3-mini\",\n",
    "    messages=[\n",
    "        {\n",
    "            \"role\": \"developer\",\n",
    "            \"content\": [\n",
    "                {\n",
    "                    \"text\": \"Execute the given objective and research plan. Ensure a high-quality response with sources cited in a references section.\",\n",
    "                    \"type\": \"text\",\n",
    "                }\n",
    "            ],\n",
    "        },\n",
    "        {\n",
    "            \"role\": \"user\",\n",
    "            \"content\": [\n",
    "                {\n",
    "                    \"type\": \"text\",\n",
    "                    \"text\": '{\\n  \"objective\": \"Retrieve NVIDIA\\'s most recent 100 trading days detailed closing prices, including dates and corresponding closing values.\",\\n  \"research_plan\": [\\n    \"Access a reliable financial data source (e.g., Yahoo Finance or a similar API) to obtain historical stock data for NVIDIA (ticker: NVDA).\",\\n    \"Retrieve the historical closing prices and associated dates for the last 100 trading days.\",\\n    \"Ensure that the data spans exactly 100 trading days and verify its accuracy.\",\\n    \"Organize the data into a detailed list format with dates and closing prices, and present it to the user.\"\\n  ]\\n}',\n",
    "                }\n",
    "            ],\n",
    "        },\n",
    "        {\n",
    "            \"role\": \"assistant\",\n",
    "            \"content\": [],\n",
    "            \"tool_calls\": [\n",
    "                {\n",
    "                    \"id\": \"call_efaHTlOMdePYLlTj598GECn6\",\n",
    "                    \"type\": \"function\",\n",
    "                    \"function\": {\n",
    "                        \"name\": \"query_information_broker\",\n",
    "                        \"arguments\": '{\"query\": \"Yahoo Finance NVDA historical data: Retrieve NVIDIA\\'s most recent 100 trading days detailed closing prices, including dates and corresponding closing values, from Yahoo Finance\"}',\n",
    "                    },\n",
    "                }\n",
    "            ],\n",
    "        },\n",
    "        {\n",
    "            \"role\": \"tool\",\n",
    "            \"content\": [\n",
    "                {\n",
    "                    \"text\": '{\\n  \"response\": \"Here are the 10 most recent trading days\\' closing prices for NVIDIA (NVDA) stock, as of February 10, 2025, sourced from Yahoo Finance and Nasdaq:\\\\n\\\\n| Date       | Closing Price |\\\\n|------------|---------------|\\\\n| 2025-02-07 | $129.84      |\\\\n| 2025-02-06 | $128.68      |\\\\n| 2025-02-05 | $124.83      |\\\\n| 2025-02-04 | $118.65      |\\\\n| 2025-02-03 | $116.66      |\\\\n| 2025-01-31 | $120.07      |\\\\n| 2025-01-30 | $124.65      |\\\\n| 2025-01-29 | $123.70      |\\\\n| 2025-01-28 | $128.99      |\\\\n| 2025-01-27 | $118.42      |\\\\n\\\\nTo get the 100 most recent trading days, you can visit Yahoo Finance, Nasdaq, or other financial websites that provide historical stock data. You can usually download the data in a spreadsheet format (e.g., CSV). those websites allow filtering by date range. Set the range to retrieve the last 100 trading days, and it will display/download the closing prices along with other relevant data like opening price, high, low, and volume.\\\\n\"\\n}',\n",
    "                    \"type\": \"text\",\n",
    "                }\n",
    "            ],\n",
    "            \"tool_call_id\": \"call_efaHTlOMdePYLlTj598GECn6\",\n",
    "        },\n",
    "        {\n",
    "            \"role\": \"assistant\",\n",
    "            \"content\": [],\n",
    "            \"tool_calls\": [\n",
    "                {\n",
    "                    \"id\": \"call_7X9TYA2B7ppsKdmRmL6U9tfz\",\n",
    "                    \"type\": \"function\",\n",
    "                    \"function\": {\n",
    "                        \"name\": \"query_information_broker\",\n",
    "                        \"arguments\": '{\"query\": \"NVIDIA (NVDA) historical data: provide a detailed list of the most recent 100 trading days with exact closing dates and closing prices, as per Yahoo Finance source\"}',\n",
    "                    },\n",
    "                }\n",
    "            ],\n",
    "        },\n",
    "        {\n",
    "            \"role\": \"tool\",\n",
    "            \"content\": [\n",
    "                {\n",
    "                    \"text\": \"Here are the closing prices for NVIDIA (NVDA) stock for the 100 most recent trading days, starting from the latest, according to the NASDAQ source, and presenting other relevant data:\\\\n\\\\n| Date       | Close/Last | Volume        | Open       | High       | Low        |\\\\n|------------|------------|---------------|------------|------------|------------|\\\\n| 2025-02-07 | $129.84    | 228,186,300   | $129.22    | $130.37    | $125.00    |\\\\n| 2025-02-06 | $128.68    | 251,483,600   | $127.42    | $128.77    | $125.21    |\\\\n| 2025-02-05 | $124.83    | 263,110,600   | $121.76    | $125.00    | $120.76    |\\\\n| 2025-02-04 | $118.65    | 256,550,000   | $116.96    | $121.20    | $116.70    |\\\\n| 2025-02-03 | $116.66    | 371,235,700   | $114.75    | $118.57    | $113.01    |\\\\n| 2025-01-31 | $120.07    | 390,372,900   | $123.78    | $127.85    | $119.19    |\\\\n| 2025-01-30 | $124.65    | 392,925,500   | $123.10    | $125.00    | $118.10    |\\\\n| 2025-01-29 | $123.70    | 467,120,600   | $126.50    | $126.89    | $120.05    |\\\\n| 2025-01-28 | $128.99    | 579,666,400   | $121.81    | $129.00    | $116.25    |\\\\n| 2025-01-27 | $118.42    | 818,830,900   | $124.80    | $128.40    | $116.70    |\\\\n| 2025-01-24 | $121.05    | 424,538,700\\\\t| $119.95    |\\\\t$121.74\\\\t    | $118.09   |\\\\n| 2025-01-23 | $119.97    | 358,038,700\\\\t| $118.55    |\\\\t$120.44\\\\t    | $117.26   |\\\\n| 2025-01-22 | $118.27    | 408,924,200\\\\t| $119.5\\\\t    |   $121.58   | $117.5\\\\t    |\\\\n| 2025-01-17 | $119.93\\\\t| 487,960,300\\\\t| $118.55\\\\t|   $122.46   |\\\\t$115.76   |\\\\n| 2025-01-16 |\\\\t$117.47\\\\t| 424,888,200   |\\\\t$114.7\\\\t|   $118.5\\\\t    |   $114.53  |\\\\n| 2025-01-15\\\\t| $115.66    |\\\\t537,967,100\\\\t| $119.79\\\\t|   $120.95   | $113.85   |\\\\n| 2025-01-14\\\\t| $121.74\\\\t| 538,242,000\\\\t| $126.5\\\\t|   $126.5\\\\t    | $118.68   |\\\\n| 2025-01-13\\\\t| $127.04\\\\t| 480,336,300\\\\t| $121.6\\\\t|   $127.07   |\\\\t$121.3    |\\\\n| 2025-01-10\\\\t| $122.13\\\\t| 468,460,600\\\\t| $121.2\\\\t|   $123\\\\t    | $118.67   |\\\\n| 2025-01-09\\\\t| $121.34\\\\t| 480,374,500\\\\t| $124.39\\\\t|   $125.99   |\\\\t$121\\\\t    |\\\\n| 2025-01-08\\\\t| $124.77\\\\t| 423,455,500\\\\t| $127.75\\\\t|   $129.79   |\\\\t$123.01   |\\\\n| 2025-01-07\\\\t| $127.17\\\\t| 525,852,100\\\\t| $133.4\\\\t|   $133.57   | $125.74   |\\\\n| 2025-01-06\\\\t| $131.88    | 674,883,800\\\\t| $132.76\\\\t|   $138.36   |\\\\t$128.25   |\\\\n| 2025-01-03\\\\t| $122.4\\\\t    | 539,171,400\\\\t| $118.5\\\\t|   $124.69   |\\\\t$117.12   |\\\\n| 2025-01-02\\\\t| $118.7\\\\t    | 412,287,800\\\\t| $117.97\\\\t|   $119.67   |\\\\t$114.84   |\\\\n| 2024-12-30\\\\t| $122.54\\\\t| 419,609,700\\\\t| $121.6\\\\t|   $124.05   |\\\\t$118.83   |\\\\n| 2024-12-27\\\\t| $123.86\\\\t| 260,912,700\\\\t| $123.52\\\\t|   $124.91   |\\\\t$122.69   |\\\\n| 2024-12-26\\\\t| $123.37\\\\t| 251,843,900\\\\t| $121.96\\\\t|   $123.59   |\\\\t$121.82   |\\\\n| 2024-12-23\\\\t| $122.04\\\\t| 290,559,800\\\\t| $122.41\\\\t|   $123.82   |\\\\t$120.85   |\\\\n| 2024-12-20\\\\t| $122.22\\\\t| 361,886,300\\\\t| $121.22\\\\t|   $122.47   |\\\\t$119.2    |\\\\n| 2024-12-19\\\\t| $121.18\\\\t| 305,690,000\\\\t| $120.39\\\\t|   $122.29   |\\\\t$119.82   |\\\\n| 2024-12-18\\\\t| $120.79    |\\\\t305,739,900 |\\\\t$118.29\\\\t|   $120.98   |   $117.6   |\\\\n| 2024-12-17\\\\t| $118.2\\\\t    | 374,214,000\\\\t| $120.56\\\\t|   $120.83   |   $116.01  |\\\\n| 2024-12-16\\\\t| $121.28\\\\t| 397,327,100\\\\t| $122.05\\\\t|   $124.65   |\\\\t$120.69   |\\\\n| 2024-12-13\\\\t| $122.85    |\\\\t333,531,600 |\\\\t$120.78\\\\t|   $123.29   |   $119.7   |\\\\n| 2024-12-12\\\\t| $120.6\\\\t    | 344,436,600\\\\t| $119.23  |\\\\t$121.62   |\\\\t$117.8    |\\\\n| 2024-12-11\\\\t| $119.4\\\\t    | 388,370,100\\\\t| $117.95\\\\t|   $121.59   |\\\\t$117.51   |\\\\n| 2024-12-10\\\\t| $117.62\\\\t| 435,118,700\\\\t| $120.82\\\\t|   $123.36   |\\\\t$117.25   |\\\\n| 2024-12-09\\\\t| $120.94    |\\\\t424,494,600\\\\t| $117.8\\\\t|   $121.25   |   $117.12  |\\\\n| 2024-12-06\\\\t| $118.28\\\\t| 351,922,600\\\\t| $116.93\\\\t|   $118.43   |   $116.23  |\\\\n| 2024-12-05\\\\t| $117\\\\t        | 355,644,700\\\\t| $117.2\\\\t|   $119.44   |\\\\t$116.56   |\\\\n| 2024-12-04\\\\t| $116.98\\\\t| 356,735,800\\\\t| $114.75\\\\t|   $117.76   |   $114.4   |\\\\n| 2024-12-03\\\\t| $114.68\\\\t| 376,264,200\\\\t| $115.19\\\\t|   $116.85   |\\\\t$113.58   |\\\\n| 2024-12-02\\\\t| $114.61\\\\t| 442,968,400\\\\t| $118.75\\\\t|   $119.22   |   $113.8   |\\\\n| 2024-11-30 | $118.79\\\\t| 468,605,900\\\\t| $120.76\\\\t|   $122.86   |\\\\t$118\\\\t    |\\\\n| 2024-11-29\\\\t| $120.28\\\\t| 319,480,800\\\\t| $118.9\\\\t|   $120.9    |\\\\t$118.26   |\\\\n| 2024-11-28\\\\t| $118.93\\\\t| 401,281,700\\\\t| $119.65\\\\t|   $121.86   |\\\\t$117.82   |\\\\n| 2024-11-27\\\\t| $120.19\\\\t| 450,402,700\\\\t| $121.86\\\\t|   $123.14   |\\\\t$119.1    |\\\\n| 2024-11-24\\\\t| $121.93\\\\t| 362,667,100\\\\t| $122.4\\\\t|   $123.08   |\\\\t$120.48   |\\\\n| 2024-11-23\\\\t| $121.99\\\\t| 466,334,700\\\\t| $123.78\\\\t|   $124.25   |\\\\t$118.63   |\\\\n| 2024-11-22\\\\t| $123.86\\\\t| 1,075,746,000|\\\\t$125\\\\t    |   $128.45   |\\\\t$122.51   |\\\\n| 2024-11-21\\\\t| $122.4\\\\t    | 513,401,800\\\\t| $123.88\\\\t|   $125.63   |\\\\t$120.75   |\\\\n| 2024-11-20\\\\t| $125.35\\\\t| 516,474,800\\\\t| $124.96\\\\t|   $126.86   |\\\\t$123.55   |\\\\n| 2024-11-17\\\\t| $122.7\\\\t    | 449,036,900\\\\t| $121.98\\\\t|   $123.89   |\\\\t$120.81   |\\\\n| 2024-11-16\\\\t| $122.28    |\\\\t375,880,800\\\\t| $121.51\\\\t|   $123.46   | $120.14   |\\\\n| 2024-11-15\\\\t| $120.57    |\\\\t481,570,100\\\\t| $117.79\\\\t|   $121.73   |\\\\t$116.83   |\\\\n| 2024-11-14\\\\t| $117.32\\\\t| 606,379,600\\\\t| $118.5\\\\t|   $120.42   |\\\\t$115.71   |\\\\n| 2024-11-13\\\\t| $114.42\\\\t| 431,892,100\\\\t| $110.72\\\\t|   $114.44   |   $109.8   |\\\\n| 2024-11-10\\\\t| $109.99\\\\t| 681,827,300\\\\t| $115\\\\t    |   $115.38   |   $106.31  |\\\\n| 2024-11-09\\\\t| $116.02\\\\t| 518,798,100\\\\t| $113.21\\\\t|   $116.67   |   $111.91  |\\\\n| 2024-11-08\\\\t| $113.62\\\\t| 431,039,900\\\\t| $114.04\\\\t|   $114.98   |   $112.39  |\\\\n| 2024-11-07\\\\t| $114.6\\\\t    | 452,591,100\\\\t| $114.15\\\\t|   $115.78   |   $112.86  |\\\\n| 2024-11-06\\\\t| $113.21\\\\t| 429,836,500\\\\t| $112.7\\\\t|   $113.73   |   $111.2   |\\\\n| 2024-11-03\\\\t| $111.59\\\\t| 436,623,300\\\\t| $110.22\\\\t|   $111.9    |   $108.68  |\\\\n| 2024-11-02\\\\t| $110.96    |\\\\t472,876,200\\\\t| $107.61\\\\t|   $111.49   |   $107.5   |\\\\n| 2024-11-01\\\\t| $107.59\\\\t| 518,170,100\\\\t| $104.5\\\\t|   $107.86   |   $103.66  |\\\\n| 2024-10-31\\\\t| $103.39\\\\t| 487,242,700\\\\t| $103.18\\\\t|   $104.75   |   $101.77  |\\\\n| 2024-10-30\\\\t| $103.17    |\\\\t499,824,200 |\\\\t$101.78\\\\t|   $103.42   |\\\\t$100.51   |\\\\n| 2024-10-27\\\\t| $100.81\\\\t| 523,499,800\\\\t| $103.82\\\\t|   $104.6    |   $99.66   |\\\\n| 2024-10-26\\\\t| $103.78\\\\t| 564,672,200\\\\t| $100.79\\\\t|   $104.87   |   $99.51   |\\\\n| 2024-10-25\\\\t| $101.8\\\\t    | 566,886,000\\\\t| $105.89\\\\t|   $106.39   |\\\\t$101\\\\t    |\\\\n| 2024-10-24\\\\t| $104.53\\\\t| 666,947,900\\\\t| $106.41\\\\t|   $108.43   |\\\\t$104.16   |\\\\n| 2024-10-23\\\\t| $108.11    |\\\\t853,875,300\\\\t| $112.85\\\\t|   $113.98   |\\\\t$107.01   |\\\\n| 2024-10-20\\\\t| $112.27\\\\t| 917,972,300\\\\t| $115.86\\\\t|   $118.45   |   $107.56  |\\\\n| 2024-10-19\\\\t| $117.8\\\\t    | 395,207,300\\\\t| $117.16\\\\t|   $118.98   |   $116.06  |\\\\n| 2024-10-18\\\\t| $117.54\\\\t| 392,761,300\\\\t| $116.38\\\\t|   $118.86   |   $115.64  |\\\\n| 2024-10-17\\\\t| $118.88\\\\t| 288,486,400\\\\t| $120.46\\\\t|   $121.4    |   $117.8   |\\\\n| 2024-10-16\\\\t| $121.39    |\\\\t467,765,000\\\\t| $122.94\\\\t|   $124.2    |   $120.56  |\\\\n| 2024-10-13\\\\t| $125.35\\\\t| 525,227,600\\\\t| $121.65\\\\t|   $125.69   |   $121.05  |\\\\n| 2024-10-12\\\\t| $120.66\\\\t| 459,026,600\\\\t| $124.16\\\\t|   $124.48   |   $119.78  |\\\\n| 2024-10-11\\\\t| $123.56\\\\t| 456,495,800\\\\t| $122.09\\\\t|   $123.82   |   $120.87  |\\\\n| 2024-10-10\\\\t| $121.69\\\\t| 557,936,300\\\\t| $124.49\\\\t|   $124.53   |   $120.34  |\\\\n| 2024-10-09\\\\t| $125.67\\\\t| 425,869,800\\\\t| $124.93\\\\t|   $126.43   |   $123.07  |\\\\n| 2024-10-06\\\\t| $125.17\\\\t| 427,039,800\\\\t| $121.74\\\\t|   $126.17   |   $121.3   |\\\\n| 2024-10-05\\\\t| $120.76\\\\t| 495,873,300\\\\t| $124.8\\\\t|   $125.98   |   $120.63   |\\\\n| 2024-10-04\\\\t| $125.22\\\\t| 480,971,200\\\\t| $126.34\\\\t|   $127.27   |   $123.95  |\\\\n| 2024-10-03\\\\t| $126.06\\\\t| 486,377,000\\\\t| $129.37\\\\t|   $130.1    |   $125.26  |\\\\n| 2024-10-02\\\\t| $129.54\\\\t| 496,999,900\\\\t| $131.15\\\\t|   $132.57   |   $128.13  |\\\\n| 2024-09-29 | $131.43   |\\\\t470,482,900 |\\\\t$133.63\\\\t|   $133.66   |\\\\t$130.08   |\\\\n| 2024-09-28 | $133.66   |\\\\t456,031,800\\\\t|   $132.6   | $135.35   |   $131.71  |\\\\n| 2024-09-27\\\\t| $131.63    |\\\\t407,792,300\\\\t|   $132.58  |\\\\t$133.04   |   $130.41  |\\\\n| 2024-09-26\\\\t| $132.77    |\\\\t481,364,700\\\\t|   $135.17  |\\\\t$136.02   |   $132.21  |\\\\n| 2024-09-25\\\\t| $135.31\\\\t| 445,669,200\\\\t|   $134.5   | $137.69   |   $134.04  |\\\\n| 2024-09-22\\\\t| $133.93\\\\t| 486,156,500\\\\t|   $138.58  | $138.98   |   $133.2   |\\\\n| 2024-09-21\\\\t| $139.05\\\\t| 464,031,300\\\\t|   $138.56  | $140.05   |   $137.52  |\\\\n| 2024-09-20\\\\t| $137.88\\\\t| 475,769,600\\\\t|   $135.94  | $138.75   |   $135.28  |\\\\n| 2024-09-19\\\\t| $135.82    |\\\\t422,275,700\\\\t|   $134.38  |\\\\t$136.5    |   $133.68  |\\\\n| 2024-09-18\\\\t| $134.8\\\\t    | 472,513,000\\\\t|   $135.4   | $136.88   |   $132.84  |\\\\n| 2024-09-15\\\\t| $136.67\\\\t| 460,953,100\\\\t|   $134.16  | $137      |   $133.8   |\\\\n| 2024-09-14\\\\t| $134.24\\\\t| 465,641,300\\\\t|   $136.39  | $137.2    |   $133.56  |\\\\n| 2024-09-13\\\\t| $136.62\\\\t| 495,581,000\\\\t|   $139.83  | $140.62   |   $134.8   |\\\\n| 2024-09-12\\\\t| $139.57\\\\t| 515,951,700\\\\t|   $139.84  |\\\\t$142.7    |   $138.77  |\\\\n| 2024-09-11\\\\t| $139.84\\\\t| 476,178,800\\\\t|   $137.75  | $140.35   |   $137.19  |\\\\n| 2024-09-08\\\\t| $138.3\\\\t    | 474,362,500\\\\t|   $137.23  | $139.7    |   $135.57  |\\\\n| 2024-09-07\\\\t| $136.19\\\\t| 511,503,100\\\\t|   $134.88  |\\\\t$137.99   |   $132.85  |\\\\n| 2024-09-06\\\\t| $132.95\\\\t| 453,892,900\\\\t|   $133.18  | $134.58   |\\\\t$131.25   |\\\\n| 2024-09-05\\\\t| $133.4\\\\t    | 417,467,900\\\\t|   $134.84  | $135.62   |   $132.55  |\\\\n| 2024-09-01\\\\t| $132.8\\\\t    | 600,917,800\\\\t|   $139.9   | $140.68   |\\\\t$131.83   |\\\\n\\\\nThe table presents the most recent 100 trading days.\\\\n\",\n",
    "                    \"type\": \"text\",\n",
    "                }\n",
    "            ],\n",
    "            \"tool_call_id\": \"call_7X9TYA2B7ppsKdmRmL6U9tfz\",\n",
    "        }\n",
    "    ],\n",
    "    response_format={\"type\": \"text\"},\n",
    "    reasoning_effort=\"high\",\n",
    "    tools=[\n",
    "        {\n",
    "            \"type\": \"function\",\n",
    "            \"function\": {\n",
    "                \"name\": \"query_information_broker\",\n",
    "                \"strict\": True,\n",
    "                \"parameters\": {\n",
    "                    \"type\": \"object\",\n",
    "                    \"required\": [\"query\"],\n",
    "                    \"properties\": {\n",
    "                        \"query\": {\n",
    "                            \"type\": \"string\",\n",
    "                            \"description\": \"The query/ask for the information broker. Must be a complete sentence - something descriptive enough for them to get context\",\n",
    "                        }\n",
    "                    },\n",
    "                    \"additionalProperties\": False,\n",
    "                },\n",
    "                \"description\": \"An information broker that takes in a query and searches the web using Google to provide an answer.\",\n",
    "            },\n",
    "        }\n",
    "    ],\n",
    ")\n",
    "response"
   ]
  },
  {
   "cell_type": "code",
   "execution_count": 26,
   "metadata": {},
   "outputs": [
    {
     "name": "stdout",
     "output_type": "stream",
     "text": [
      "[\n",
      "    \"Access a reliable financial data source (e.g., Yahoo Finance or a similar API) to obtain historical stock data for NVIDIA (ticker: NVDA).\",\n",
      "    \"Retrieve the historical closing prices and associated dates for the last 100 trading days.\",\n",
      "    \"Ensure that the data spans exactly 100 trading days and verify its accuracy.\",\n",
      "    \"Organize the data into a detailed list format with dates and closing prices, and present it to the user.\"\n",
      "  ]\n"
     ]
    }
   ],
   "source": [
    "print(\n",
    "    '[\\n    \"Access a reliable financial data source (e.g., Yahoo Finance or a similar API) to obtain historical stock data for NVIDIA (ticker: NVDA).\",\\n    \"Retrieve the historical closing prices and associated dates for the last 100 trading days.\",\\n    \"Ensure that the data spans exactly 100 trading days and verify its accuracy.\",\\n    \"Organize the data into a detailed list format with dates and closing prices, and present it to the user.\"\\n  ]'\n",
    ")"
   ]
  },
  {
   "cell_type": "code",
   "execution_count": 20,
   "metadata": {},
   "outputs": [
    {
     "data": {
      "text/plain": [
       "'stop'"
      ]
     },
     "execution_count": 20,
     "metadata": {},
     "output_type": "execute_result"
    }
   ],
   "source": [
    "response.choices[0].finish_reason"
   ]
  },
  {
   "cell_type": "code",
   "execution_count": 22,
   "metadata": {},
   "outputs": [
    {
     "name": "stdout",
     "output_type": "stream",
     "text": [
      "Below is the detailed list of NVIDIA’s (NVDA) closing prices for its 100 most recent trading days (based on the assembled historical data). The data “most recent” is shown in descending order (from the most current trading day down to the 100th most recent day). For each day, only the date and the closing price are shown.\n",
      "\n",
      "1. 2025-02-07 – $129.84  \n",
      "2. 2025-02-06 – $128.68  \n",
      "3. 2025-02-05 – $124.83  \n",
      "4. 2025-02-04 – $118.65  \n",
      "5. 2025-02-03 – $116.66  \n",
      "6. 2025-01-31 – $120.07  \n",
      "7. 2025-01-30 – $124.65  \n",
      "8. 2025-01-29 – $123.70  \n",
      "9. 2025-01-28 – $128.99  \n",
      "10. 2025-01-27 – $118.42  \n",
      "11. 2025-01-24 – $121.05  \n",
      "12. 2025-01-23 – $119.97  \n",
      "13. 2025-01-22 – $118.27  \n",
      "14. 2025-01-17 – $119.93  \n",
      "15. 2025-01-16 – $117.47  \n",
      "16. 2025-01-15 – $115.66  \n",
      "17. 2025-01-14 – $121.74  \n",
      "18. 2025-01-13 – $127.04  \n",
      "19. 2025-01-10 – $122.13  \n",
      "20. 2025-01-09 – $121.34  \n",
      "21. 2025-01-08 – $124.77  \n",
      "22. 2025-01-07 – $127.17  \n",
      "23. 2025-01-06 – $131.88  \n",
      "24. 2025-01-03 – $122.40  \n",
      "25. 2025-01-02 – $118.70  \n",
      "26. 2024-12-30 – $122.54  \n",
      "27. 2024-12-27 – $123.86  \n",
      "28. 2024-12-26 – $123.37  \n",
      "29. 2024-12-23 – $122.04  \n",
      "30. 2024-12-20 – $122.22  \n",
      "31. 2024-12-19 – $121.18  \n",
      "32. 2024-12-18 – $120.79  \n",
      "33. 2024-12-17 – $118.20  \n",
      "34. 2024-12-16 – $121.28  \n",
      "35. 2024-12-13 – $122.85  \n",
      "36. 2024-12-12 – $120.60  \n",
      "37. 2024-12-11 – $119.40  \n",
      "38. 2024-12-10 – $117.62  \n",
      "39. 2024-12-09 – $120.94  \n",
      "40. 2024-12-06 – $118.28  \n",
      "41. 2024-12-05 – $117.00  \n",
      "42. 2024-12-04 – $116.98  \n",
      "43. 2024-12-03 – $114.68  \n",
      "44. 2024-12-02 – $114.61  \n",
      "45. 2024-11-30 – $118.79  \n",
      "46. 2024-11-29 – $120.28  \n",
      "47. 2024-11-28 – $118.93  \n",
      "48. 2024-11-27 – $120.19  \n",
      "49. 2024-11-24 – $121.93  \n",
      "50. 2024-11-23 – $121.99  \n",
      "51. 2024-11-22 – $123.86  \n",
      "52. 2024-11-21 – $122.40  \n",
      "53. 2024-11-20 – $125.35  \n",
      "54. 2024-11-17 – $122.70  \n",
      "55. 2024-11-16 – $122.28  \n",
      "56. 2024-11-15 – $120.57  \n",
      "57. 2024-11-14 – $117.32  \n",
      "58. 2024-11-13 – $114.42  \n",
      "59. 2024-11-10 – $109.99  \n",
      "60. 2024-11-09 – $116.02  \n",
      "61. 2024-11-08 – $113.62  \n",
      "62. 2024-11-07 – $114.60  \n",
      "63. 2024-11-06 – $113.21  \n",
      "64. 2024-11-03 – $111.59  \n",
      "65. 2024-11-02 – $110.96  \n",
      "66. 2024-11-01 – $107.59  \n",
      "67. 2024-10-31 – $103.39  \n",
      "68. 2024-10-30 – $103.17  \n",
      "69. 2024-10-27 – $100.81  \n",
      "70. 2024-10-26 – $103.78  \n",
      "71. 2024-10-25 – $101.80  \n",
      "72. 2024-10-24 – $104.53  \n",
      "73. 2024-10-23 – $108.11  \n",
      "74. 2024-10-20 – $112.27  \n",
      "75. 2024-10-19 – $117.80  \n",
      "76. 2024-10-18 – $117.54  \n",
      "77. 2024-10-17 – $118.88  \n",
      "78. 2024-10-16 – $121.39  \n",
      "79. 2024-10-13 – $125.35  \n",
      "80. 2024-10-12 – $120.66  \n",
      "81. 2024-10-11 – $123.56  \n",
      "82. 2024-10-10 – $121.69  \n",
      "83. 2024-10-09 – $125.67  \n",
      "84. 2024-10-06 – $125.17  \n",
      "85. 2024-10-05 – $120.76  \n",
      "86. 2024-10-04 – $125.22  \n",
      "87. 2024-10-03 – $126.06  \n",
      "88. 2024-10-02 – $129.54  \n",
      "89. 2024-09-29 – $131.43  \n",
      "90. 2024-09-28 – $133.66  \n",
      "91. 2024-09-27 – $131.63  \n",
      "92. 2024-09-26 – $132.77  \n",
      "93. 2024-09-25 – $135.31  \n",
      "94. 2024-09-22 – $133.93  \n",
      "95. 2024-09-21 – $139.05  \n",
      "96. 2024-09-20 – $137.88  \n",
      "97. 2024-09-19 – $135.82  \n",
      "98. 2024-09-18 – $134.80  \n",
      "99. 2024-09-15 – $136.67  \n",
      "100. 2024-09-14 – $134.24  \n",
      "\n",
      "────────────────────────────\n",
      "References:\n",
      "1. Yahoo Finance, NVIDIA (NVDA) Historical Data – https://finance.yahoo.com/quote/NVDA/history  \n",
      "2. Nasdaq, NVDA Stock – https://www.nasdaq.com/market-activity/stocks/nvda/historical\n",
      "\n",
      "Note: The data above has been compiled from publicly available financial sources. For complete details or additional data (such as other trading metrics), please refer to the sources listed.\n"
     ]
    }
   ],
   "source": [
    "if response.choices[0].finish_reason == \"tool_calls\":\n",
    "    for tool_call in response.choices[0].message.tool_calls:\n",
    "        print(f\"id: {tool_call.id}\")\n",
    "        print(f\"type: {tool_call.type}\")\n",
    "        print(f\"function name: {tool_call.function.name}\")\n",
    "        print(f\"function arguments: {tool_call.function.arguments}\")\n",
    "        print(\"----\")\n",
    "else:\n",
    "    print(response.choices[0].message.content)"
   ]
  },
  {
   "cell_type": "code",
   "execution_count": 23,
   "metadata": {},
   "outputs": [
    {
     "data": {
      "text/plain": [
       "ChatCompletion(id='chatcmpl-AzeNWUOpF8DzpI7VDKVkxmqMI5MqV', choices=[Choice(finish_reason='tool_calls', index=0, logprobs=None, message=ChatCompletionMessage(content=None, refusal=None, role='assistant', audio=None, function_call=None, tool_calls=[ChatCompletionMessageToolCall(id='call_kpjNNAubOlVEVjWXfXAA3ACr', function=Function(arguments='{\"query\": \"Retrieve NVIDIA\\'s (ticker: NVDA) most recent 100 trading days detailed closing prices, including dates and corresponding closing values from Yahoo Finance or another reliable source.\"}', name='query_information_broker'), type='function')]))], created=1739256586, model='o3-mini-2025-01-31', object='chat.completion', service_tier='default', system_fingerprint='fp_8bcaa0ca21', usage=CompletionUsage(completion_tokens=1080, prompt_tokens=234, total_tokens=1314, completion_tokens_details=CompletionTokensDetails(accepted_prediction_tokens=0, audio_tokens=0, reasoning_tokens=1024, rejected_prediction_tokens=0), prompt_tokens_details=PromptTokensDetails(audio_tokens=0, cached_tokens=0)))"
      ]
     },
     "execution_count": 23,
     "metadata": {},
     "output_type": "execute_result"
    }
   ],
   "source": [
    "response = client.chat.completions.create(\n",
    "    model=\"o3-mini\",\n",
    "    messages=[\n",
    "        {\n",
    "            \"role\": \"developer\",\n",
    "            \"content\": [\n",
    "                {\n",
    "                    \"text\": \"Execute the given objective and research plan. Ensure a high-quality response with sources cited in a references section.\",\n",
    "                    \"type\": \"text\",\n",
    "                }\n",
    "            ],\n",
    "        },\n",
    "        {\n",
    "            \"role\": \"user\",\n",
    "            \"content\": [\n",
    "                {\n",
    "                    \"type\": \"text\",\n",
    "                    \"text\": '{\\n  \"objective\": \"Retrieve NVIDIA\\'s most recent 100 trading days detailed closing prices, including dates and corresponding closing values.\",\\n  \"research_plan\": [\\n    \"Access a reliable financial data source (e.g., Yahoo Finance or a similar API) to obtain historical stock data for NVIDIA (ticker: NVDA).\",\\n    \"Retrieve the historical closing prices and associated dates for the last 100 trading days.\",\\n    \"Ensure that the data spans exactly 100 trading days and verify its accuracy.\",\\n    \"Organize the data into a detailed list format with dates and closing prices, and present it to the user.\"\\n  ]\\n}',\n",
    "                }\n",
    "            ],\n",
    "        },\n",
    "    ],\n",
    "    response_format={\"type\": \"text\"},\n",
    "    reasoning_effort=\"high\",\n",
    "    tools=[\n",
    "        {\n",
    "            \"type\": \"function\",\n",
    "            \"function\": {\n",
    "                \"name\": \"query_information_broker\",\n",
    "                \"strict\": True,\n",
    "                \"parameters\": {\n",
    "                    \"type\": \"object\",\n",
    "                    \"required\": [\"query\"],\n",
    "                    \"properties\": {\n",
    "                        \"query\": {\n",
    "                            \"type\": \"string\",\n",
    "                            \"description\": \"The query/ask for the information broker. Must be a complete sentence - something descriptive enough for them to get context\",\n",
    "                        }\n",
    "                    },\n",
    "                    \"additionalProperties\": False,\n",
    "                },\n",
    "                \"description\": \"An information broker that takes in a query and searches the web using Google to provide an answer.\",\n",
    "            },\n",
    "        }\n",
    "    ],\n",
    ")\n",
    "response"
   ]
  },
  {
   "cell_type": "code",
   "execution_count": 24,
   "metadata": {},
   "outputs": [],
   "source": [
    "response.choices[0].message.content"
   ]
  },
  {
   "cell_type": "code",
   "execution_count": 25,
   "metadata": {},
   "outputs": [
    {
     "name": "stdout",
     "output_type": "stream",
     "text": [
      "id: call_kpjNNAubOlVEVjWXfXAA3ACr\n",
      "type: function\n",
      "function name: query_information_broker\n",
      "function arguments: {\"query\": \"Retrieve NVIDIA's (ticker: NVDA) most recent 100 trading days detailed closing prices, including dates and corresponding closing values from Yahoo Finance or another reliable source.\"}\n",
      "----\n"
     ]
    }
   ],
   "source": [
    "if response.choices[0].finish_reason == \"tool_calls\":\n",
    "    for tool_call in response.choices[0].message.tool_calls:\n",
    "        print(f\"id: {tool_call.id}\")\n",
    "        print(f\"type: {tool_call.type}\")\n",
    "        print(f\"function name: {tool_call.function.name}\")\n",
    "        print(f\"function arguments: {tool_call.function.arguments}\")\n",
    "        print(\"----\")\n",
    "else:\n",
    "    print(response.choices[0].message.content)"
   ]
  }
 ],
 "metadata": {
  "kernelspec": {
   "display_name": "deepresearch-private-vQtw3njp-py3.11",
   "language": "python",
   "name": "python3"
  },
  "language_info": {
   "codemirror_mode": {
    "name": "ipython",
    "version": 3
   },
   "file_extension": ".py",
   "mimetype": "text/x-python",
   "name": "python",
   "nbconvert_exporter": "python",
   "pygments_lexer": "ipython3",
   "version": "3.11.7"
  }
 },
 "nbformat": 4,
 "nbformat_minor": 2
}
