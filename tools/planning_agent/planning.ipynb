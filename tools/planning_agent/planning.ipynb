{
 "cells": [
  {
   "cell_type": "code",
   "execution_count": 8,
   "metadata": {},
   "outputs": [],
   "source": [
    "import os\n",
    "from openai import OpenAI\n",
    "\n",
    "import json\n",
    "\n",
    "client = OpenAI(api_key=os.getenv(\"OPENAI_API_KEY\"))\n",
    "\n",
    "\n"
   ]
  },
  {
   "cell_type": "code",
   "execution_count": null,
   "metadata": {},
   "outputs": [],
   "source": [
    "response = client.chat.completions.create(\n",
    "    model=\"o3-mini\",\n",
    "    messages=[\n",
    "        {\n",
    "            \"role\": \"developer\",\n",
    "            \"content\": [\n",
    "                {\n",
    "                    \"type\": \"text\",\n",
    "                    \"text\": 'You are a planning assistant. The user may ask a query that requires you to consult with an information broker (with internet access) or a website-specific researcher who can retrieve notes or relevant data from a designated website. Analyze the user\\'s request, identify any gaps or ambiguities, and propose a high-level research plan (under 100 words).\\n\\nYour output must follow this JSON schema:\\n{\\n  \"name\": \"planning_assistant\",\\n  \"description\": \"Assist users by analyzing queries and conducting web searches for relevant information.\",\\n  \"strict\": true,\\n  \"parameters\": {\\n    \"type\": \"object\",\\n    \"required\": [\\n      \"objective\",\\n      \"clarifications\",\\n      \"research_plan\"\\n    ],\\n    \"properties\": {\\n      \"objective\": {\\n        \"type\": \"string\",\\n        \"description\": \"A summary of your understanding of the query, indicating whether it requires consulting an information broker or a website-specific researcher.\"\\n      },\\n      \"research_plan\": {\\n        \"type\": \"array\",\\n        \"items\": {\\n          \"type\": \"string\",\\n          \"description\": \"A step or strategy within the research plan.\"\\n        },\\n        \"description\": \"A high-level plan detailing how to conduct the research based on the user\\'s query and any identified gaps.\"\\n      },\\n      \"clarifications\": {\\n        \"type\": \"array\",\\n        \"items\": {\\n          \"type\": \"string\",\\n          \"description\": \"A single clarifying question related to the user\\'s query.\"\\n        },\\n        \"description\": \"An array of clarifying questions to better understand the user\\'s request.\"\\n      }\\n    },\\n    \"additionalProperties\": false\\n  }\\n}\\n\\n\\nOnce the user has resolved your clarifying questions, you can remove them from the list.\\n\\nDo not ask clarifying questions unless the user\\'s request is ambiguous. The output format will always be markdown.\\n',\n",
    "                }\n",
    "            ],\n",
    "        },\n",
    "        {\n",
    "            \"role\": \"user\",\n",
    "            \"content\": [\n",
    "                {\n",
    "                    \"type\": \"text\",\n",
    "                    \"text\": \"What was NVIDIA's closing stock price for the last 100 days?\",\n",
    "                }\n",
    "            ],\n",
    "        },\n",
    "    ],\n",
    "    response_format={\"type\": \"json_object\"},\n",
    "    reasoning_effort=\"high\",\n",
    ")"
   ]
  },
  {
   "cell_type": "code",
   "execution_count": 5,
   "metadata": {},
   "outputs": [
    {
     "data": {
      "text/plain": [
       "ChatCompletion(id='chatcmpl-AyTytuxhT096IoH2pWSH1XiiLEnfw', choices=[Choice(finish_reason='stop', index=0, logprobs=None, message=ChatCompletionMessage(content='{\\n  \"objective\": \"User is asking for historical data on NVIDIA\\'s closing stock prices for the last 100 days, which likely requires consulting a reliable financial data source.\",\\n  \"research_plan\": [\\n    \"Identify a trustworthy financial website (such as Yahoo Finance or Google Finance) that provides historical stock data for NVIDIA.\",\\n    \"Clarify the exact date range and whether the request refers to 100 trading days or 100 calendar days.\",\\n    \"Retrieve the lista of closing prices along with corresponding dates for NVIDIA over the specified period.\",\\n    \"Format the data according to any additional presentation requirements (e.g., a table or simple list).\"\\n  ],\\n  \"clarifications\": [\\n    \"Do you need the closing prices for the last 100 trading days (excluding weekends and holidays) or for the last 100 calendar days, and should the output include the corresponding dates?\"\\n  ]\\n}', refusal=None, role='assistant', audio=None, function_call=None, tool_calls=None))], created=1738978291, model='o3-mini-2025-01-31', object='chat.completion', service_tier='default', system_fingerprint='fp_8bcaa0ca21', usage=CompletionUsage(completion_tokens=1534, prompt_tokens=397, total_tokens=1931, completion_tokens_details=CompletionTokensDetails(accepted_prediction_tokens=0, audio_tokens=0, reasoning_tokens=1344, rejected_prediction_tokens=0), prompt_tokens_details=PromptTokensDetails(audio_tokens=0, cached_tokens=0)))"
      ]
     },
     "execution_count": 5,
     "metadata": {},
     "output_type": "execute_result"
    }
   ],
   "source": [
    "response"
   ]
  },
  {
   "cell_type": "code",
   "execution_count": 9,
   "metadata": {},
   "outputs": [
    {
     "data": {
      "text/plain": [
       "{'objective': \"User is asking for historical data on NVIDIA's closing stock prices for the last 100 days, which likely requires consulting a reliable financial data source.\",\n",
       " 'research_plan': ['Identify a trustworthy financial website (such as Yahoo Finance or Google Finance) that provides historical stock data for NVIDIA.',\n",
       "  'Clarify the exact date range and whether the request refers to 100 trading days or 100 calendar days.',\n",
       "  'Retrieve the lista of closing prices along with corresponding dates for NVIDIA over the specified period.',\n",
       "  'Format the data according to any additional presentation requirements (e.g., a table or simple list).'],\n",
       " 'clarifications': ['Do you need the closing prices for the last 100 trading days (excluding weekends and holidays) or for the last 100 calendar days, and should the output include the corresponding dates?']}"
      ]
     },
     "execution_count": 9,
     "metadata": {},
     "output_type": "execute_result"
    }
   ],
   "source": [
    "json.loads(response.choices[0].message.content)"
   ]
  },
  {
   "cell_type": "code",
   "execution_count": null,
   "metadata": {},
   "outputs": [],
   "source": []
  }
 ],
 "metadata": {
  "kernelspec": {
   "display_name": "deepresearch-private-vQtw3njp-py3.11",
   "language": "python",
   "name": "python3"
  },
  "language_info": {
   "codemirror_mode": {
    "name": "ipython",
    "version": 3
   },
   "file_extension": ".py",
   "mimetype": "text/x-python",
   "name": "python",
   "nbconvert_exporter": "python",
   "pygments_lexer": "ipython3",
   "version": "3.11.7"
  }
 },
 "nbformat": 4,
 "nbformat_minor": 2
}
